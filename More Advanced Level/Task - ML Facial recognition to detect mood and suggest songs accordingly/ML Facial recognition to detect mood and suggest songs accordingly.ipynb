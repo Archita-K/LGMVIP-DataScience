{
 "cells": [
  {
   "cell_type": "markdown",
   "id": "1c92e892",
   "metadata": {},
   "source": [
    "# LetsGrowMoreVIP - Data Science Intern\n",
    "# Author - Archita K\n",
    "# More Advanced Level Task - ML Facial recognition to detect mood and suggest songs accordingly"
   ]
  },
  {
   "cell_type": "markdown",
   "id": "0f204ca1",
   "metadata": {},
   "source": [
    "# Importing the Modules"
   ]
  },
  {
   "cell_type": "code",
   "execution_count": 1,
   "id": "daec032d",
   "metadata": {},
   "outputs": [],
   "source": [
    "import numpy as np\n",
    "import pandas as pd\n",
    "import os\n",
    "import matplotlib.pyplot as plt\n",
    "import tensorflow as tf\n",
    "import keras\n",
    "from keras.preprocessing import image\n",
    "from keras.models import Sequential\n",
    "from keras.layers import Conv2D, MaxPool2D, Flatten,Dense,Dropout,BatchNormalization\n",
    "from tensorflow.keras.preprocessing.image import ImageDataGenerator\n",
    "from tensorflow.keras.applications import VGG16, InceptionResNetV2\n",
    "from keras import regularizers\n",
    "from tensorflow.keras.optimizers import Adam,RMSprop,SGD,Adamax\n",
    "import cv2\n",
    "import warnings\n",
    "warnings.filterwarnings('ignore')"
   ]
  },
  {
   "cell_type": "markdown",
   "id": "8fd99582",
   "metadata": {},
   "source": [
    "# Training"
   ]
  },
  {
   "cell_type": "code",
   "execution_count": 2,
   "id": "0573b32b",
   "metadata": {},
   "outputs": [],
   "source": [
    "train_dir = \"train\"\n",
    "test_dir = \"test\""
   ]
  },
  {
   "cell_type": "code",
   "execution_count": 3,
   "id": "31991361",
   "metadata": {},
   "outputs": [],
   "source": [
    "img_size = 48"
   ]
  },
  {
   "cell_type": "code",
   "execution_count": 4,
   "id": "8f8d1144",
   "metadata": {},
   "outputs": [],
   "source": [
    "train_datagen = ImageDataGenerator(width_shift_range = 0.1,\n",
    "                                         height_shift_range = 0.1,\n",
    "                                         horizontal_flip = True,\n",
    "                                         rescale = 1./255,\n",
    "                                         validation_split = 0.2\n",
    "                                        )\n",
    "validation_datagen = ImageDataGenerator(rescale = 1./255,\n",
    "                                         validation_split = 0.2)"
   ]
  },
  {
   "cell_type": "code",
   "execution_count": 5,
   "id": "07ab478e",
   "metadata": {},
   "outputs": [
    {
     "name": "stdout",
     "output_type": "stream",
     "text": [
      "Found 22968 images belonging to 7 classes.\n",
      "Found 1432 images belonging to 7 classes.\n"
     ]
    }
   ],
   "source": [
    "train_generator = train_datagen.flow_from_directory(directory = train_dir,\n",
    "                                                    target_size = (img_size,img_size),\n",
    "                                                    batch_size = 64,\n",
    "                                                    color_mode = \"grayscale\",\n",
    "                                                    class_mode = \"categorical\",\n",
    "                                                    subset = \"training\"\n",
    "                                                   )\n",
    "validation_generator = validation_datagen.flow_from_directory( directory = test_dir,\n",
    "                                                              target_size = (img_size,img_size),\n",
    "                                                              batch_size = 64,\n",
    "                                                              color_mode = \"grayscale\",\n",
    "                                                              class_mode = \"categorical\",\n",
    "                                                              subset = \"validation\"\n",
    "                                                             )"
   ]
  },
  {
   "cell_type": "code",
   "execution_count": 6,
   "id": "e78818d0",
   "metadata": {},
   "outputs": [],
   "source": [
    "model = tf.keras.Sequential([\n",
    "\n",
    "        # input layer\n",
    "        tf.keras.layers.Conv2D(32,(3,3),activation = 'relu',input_shape=(48,48,1)),\n",
    "        tf.keras.layers.Conv2D(64,(3,3), padding='same', activation='relu' ),\n",
    "        tf.keras.layers.BatchNormalization(),\n",
    "        tf.keras.layers.MaxPooling2D(2,2),\n",
    "        tf.keras.layers.Dropout(0.25),\n",
    "\n",
    "        # 1st hidden dense layer\n",
    "        tf.keras.layers.Conv2D(128,(5,5), padding='same', activation='relu'),\n",
    "        tf.keras.layers.BatchNormalization(),\n",
    "        tf.keras.layers.MaxPooling2D(2,2),\n",
    "        tf.keras.layers.Dropout(0.25),\n",
    "    \n",
    "        # 2nd hidden dense layer\n",
    "        tf.keras.layers.Conv2D(512,(3,3), padding='same', activation='relu',kernel_regularizer=tf.keras.regularizers.l2(0.01)),\n",
    "        tf.keras.layers.BatchNormalization(),\n",
    "        tf.keras.layers.MaxPooling2D(2,2),\n",
    "        tf.keras.layers.Dropout(0.25),\n",
    "    \n",
    "        # 3rd hidden dense layer\n",
    "        tf.keras.layers.Conv2D(512,(3,3), padding='same', activation='relu',kernel_regularizer=tf.keras.regularizers.l2(0.01)),\n",
    "        tf.keras.layers.BatchNormalization(),\n",
    "        tf.keras.layers.MaxPooling2D(2,2),\n",
    "        tf.keras.layers.Dropout(0.25),\n",
    "    \n",
    "        # Flatten layer\n",
    "        tf.keras.layers.Flatten(),\n",
    "        tf.keras.layers.Dense(256, activation='relu'),\n",
    "        tf.keras.layers.BatchNormalization(),\n",
    "        tf.keras.layers.Dropout(0.25),\n",
    "    \n",
    "        tf.keras.layers.Dense(512, activation='relu'),\n",
    "        tf.keras.layers.BatchNormalization(),\n",
    "        tf.keras.layers.Dropout(0.25),\n",
    "        # output layer\n",
    "        tf.keras.layers.Dense(7, activation='softmax')\n",
    "    ])"
   ]
  },
  {
   "cell_type": "code",
   "execution_count": 7,
   "id": "698d536e",
   "metadata": {},
   "outputs": [
    {
     "name": "stdout",
     "output_type": "stream",
     "text": [
      "Model: \"sequential\"\n",
      "_________________________________________________________________\n",
      " Layer (type)                Output Shape              Param #   \n",
      "=================================================================\n",
      " conv2d (Conv2D)             (None, 46, 46, 32)        320       \n",
      "                                                                 \n",
      " conv2d_1 (Conv2D)           (None, 46, 46, 64)        18496     \n",
      "                                                                 \n",
      " batch_normalization (BatchN  (None, 46, 46, 64)       256       \n",
      " ormalization)                                                   \n",
      "                                                                 \n",
      " max_pooling2d (MaxPooling2D  (None, 23, 23, 64)       0         \n",
      " )                                                               \n",
      "                                                                 \n",
      " dropout (Dropout)           (None, 23, 23, 64)        0         \n",
      "                                                                 \n",
      " conv2d_2 (Conv2D)           (None, 23, 23, 128)       204928    \n",
      "                                                                 \n",
      " batch_normalization_1 (Batc  (None, 23, 23, 128)      512       \n",
      " hNormalization)                                                 \n",
      "                                                                 \n",
      " max_pooling2d_1 (MaxPooling  (None, 11, 11, 128)      0         \n",
      " 2D)                                                             \n",
      "                                                                 \n",
      " dropout_1 (Dropout)         (None, 11, 11, 128)       0         \n",
      "                                                                 \n",
      " conv2d_3 (Conv2D)           (None, 11, 11, 512)       590336    \n",
      "                                                                 \n",
      " batch_normalization_2 (Batc  (None, 11, 11, 512)      2048      \n",
      " hNormalization)                                                 \n",
      "                                                                 \n",
      " max_pooling2d_2 (MaxPooling  (None, 5, 5, 512)        0         \n",
      " 2D)                                                             \n",
      "                                                                 \n",
      " dropout_2 (Dropout)         (None, 5, 5, 512)         0         \n",
      "                                                                 \n",
      " conv2d_4 (Conv2D)           (None, 5, 5, 512)         2359808   \n",
      "                                                                 \n",
      " batch_normalization_3 (Batc  (None, 5, 5, 512)        2048      \n",
      " hNormalization)                                                 \n",
      "                                                                 \n",
      " max_pooling2d_3 (MaxPooling  (None, 2, 2, 512)        0         \n",
      " 2D)                                                             \n",
      "                                                                 \n",
      " dropout_3 (Dropout)         (None, 2, 2, 512)         0         \n",
      "                                                                 \n",
      " flatten (Flatten)           (None, 2048)              0         \n",
      "                                                                 \n",
      " dense (Dense)               (None, 256)               524544    \n",
      "                                                                 \n",
      " batch_normalization_4 (Batc  (None, 256)              1024      \n",
      " hNormalization)                                                 \n",
      "                                                                 \n",
      " dropout_4 (Dropout)         (None, 256)               0         \n",
      "                                                                 \n",
      " dense_1 (Dense)             (None, 512)               131584    \n",
      "                                                                 \n",
      " batch_normalization_5 (Batc  (None, 512)              2048      \n",
      " hNormalization)                                                 \n",
      "                                                                 \n",
      " dropout_5 (Dropout)         (None, 512)               0         \n",
      "                                                                 \n",
      " dense_2 (Dense)             (None, 7)                 3591      \n",
      "                                                                 \n",
      "=================================================================\n",
      "Total params: 3,841,543\n",
      "Trainable params: 3,837,575\n",
      "Non-trainable params: 3,968\n",
      "_________________________________________________________________\n"
     ]
    }
   ],
   "source": [
    "optimiser = tf.keras.optimizers.Adam(lr=0.0001)\n",
    "model.compile(optimizer=optimiser,\n",
    "                  loss='categorical_crossentropy',\n",
    "                  metrics=['accuracy'])\n",
    "\n",
    "model.summary()"
   ]
  },
  {
   "cell_type": "code",
   "execution_count": 8,
   "id": "17c358d2",
   "metadata": {},
   "outputs": [
    {
     "name": "stdout",
     "output_type": "stream",
     "text": [
      "Epoch 1/20\n",
      "359/359 [==============================] - 523s 1s/step - loss: 9.3395 - accuracy: 0.1865 - val_loss: 8.7334 - val_accuracy: 0.2472\n",
      "Epoch 2/20\n",
      "359/359 [==============================] - 522s 1s/step - loss: 8.3334 - accuracy: 0.2098 - val_loss: 7.5891 - val_accuracy: 0.2465\n",
      "Epoch 3/20\n",
      "359/359 [==============================] - 494s 1s/step - loss: 7.3596 - accuracy: 0.2404 - val_loss: 6.6427 - val_accuracy: 0.2786\n",
      "Epoch 4/20\n",
      "359/359 [==============================] - 565s 2s/step - loss: 6.4254 - accuracy: 0.2583 - val_loss: 5.7315 - val_accuracy: 0.3408\n",
      "Epoch 5/20\n",
      "359/359 [==============================] - 517s 1s/step - loss: 5.5360 - accuracy: 0.3015 - val_loss: 5.2611 - val_accuracy: 0.3017\n",
      "Epoch 6/20\n",
      "359/359 [==============================] - 541s 2s/step - loss: 4.7898 - accuracy: 0.3348 - val_loss: 4.2262 - val_accuracy: 0.4036\n",
      "Epoch 7/20\n",
      "359/359 [==============================] - 571s 2s/step - loss: 4.1503 - accuracy: 0.3618 - val_loss: 3.7427 - val_accuracy: 0.3987\n",
      "Epoch 8/20\n",
      "359/359 [==============================] - 506s 1s/step - loss: 3.6382 - accuracy: 0.3818 - val_loss: 3.3334 - val_accuracy: 0.4365\n",
      "Epoch 9/20\n",
      "359/359 [==============================] - 518s 1s/step - loss: 3.2374 - accuracy: 0.4100 - val_loss: 3.1011 - val_accuracy: 0.4532\n",
      "Epoch 10/20\n",
      "359/359 [==============================] - 505s 1s/step - loss: 2.8921 - accuracy: 0.4356 - val_loss: 2.8023 - val_accuracy: 0.4797\n",
      "Epoch 11/20\n",
      "359/359 [==============================] - 503s 1s/step - loss: 2.6215 - accuracy: 0.4515 - val_loss: 2.5301 - val_accuracy: 0.4874\n",
      "Epoch 12/20\n",
      "359/359 [==============================] - 475s 1s/step - loss: 2.3905 - accuracy: 0.4774 - val_loss: 2.1763 - val_accuracy: 0.5405\n",
      "Epoch 13/20\n",
      "359/359 [==============================] - 477s 1s/step - loss: 2.2294 - accuracy: 0.4879 - val_loss: 2.2642 - val_accuracy: 0.5133\n",
      "Epoch 14/20\n",
      "359/359 [==============================] - 477s 1s/step - loss: 2.0766 - accuracy: 0.5020 - val_loss: 1.8950 - val_accuracy: 0.5705\n",
      "Epoch 15/20\n",
      "359/359 [==============================] - 473s 1s/step - loss: 1.9715 - accuracy: 0.5143 - val_loss: 1.8236 - val_accuracy: 0.5628\n",
      "Epoch 16/20\n",
      "359/359 [==============================] - 473s 1s/step - loss: 1.8742 - accuracy: 0.5270 - val_loss: 1.6945 - val_accuracy: 0.5838\n",
      "Epoch 17/20\n",
      "359/359 [==============================] - 476s 1s/step - loss: 1.7967 - accuracy: 0.5394 - val_loss: 1.6436 - val_accuracy: 0.5978\n",
      "Epoch 18/20\n",
      "359/359 [==============================] - 477s 1s/step - loss: 1.7313 - accuracy: 0.5485 - val_loss: 1.6460 - val_accuracy: 0.5943\n",
      "Epoch 19/20\n",
      "359/359 [==============================] - 471s 1s/step - loss: 1.6778 - accuracy: 0.5584 - val_loss: 1.6521 - val_accuracy: 0.5524\n",
      "Epoch 20/20\n",
      "359/359 [==============================] - 471s 1s/step - loss: 1.6372 - accuracy: 0.5612 - val_loss: 1.5603 - val_accuracy: 0.5992\n"
     ]
    }
   ],
   "source": [
    "history = model.fit(x = train_generator,epochs = 20,validation_data = validation_generator,batch_size=64)"
   ]
  },
  {
   "cell_type": "code",
   "execution_count": 9,
   "id": "e0b2571d",
   "metadata": {},
   "outputs": [
    {
     "data": {
      "image/png": "[encoded data removed]",
      "text/plain": [
       "<Figure size 432x288 with 1 Axes>"
      ]
     },
     "metadata": {
      "needs_background": "light"
     },
     "output_type": "display_data"
    },
    {
     "data": {
      "text/plain": [
       "<Figure size 432x288 with 0 Axes>"
      ]
     },
     "metadata": {},
     "output_type": "display_data"
    },
    {
     "data": {
      "image/png": "[encoded data removed]",
      "text/plain": [
       "<Figure size 432x288 with 1 Axes>"
      ]
     },
     "metadata": {
      "needs_background": "light"
     },
     "output_type": "display_data"
    }
   ],
   "source": [
    "accuracy = history.history['accuracy']\n",
    "val_acc = history.history['val_accuracy']\n",
    "loss = history.history['loss']\n",
    "val_loss = history.history['val_loss']\n",
    "epochs = range(len(accuracy))\n",
    "\n",
    "plt.plot(epochs, accuracy, 'r', label='Training accuracy')\n",
    "plt.plot(epochs, val_acc, 'b', label='Validation accuracy')\n",
    "plt.title('Training and validation accuracy')\n",
    "plt.legend(loc=0)\n",
    "plt.figure()\n",
    "plt.show()\n",
    "\n",
    "plt.plot(epochs, loss, 'r', label='Training loss')\n",
    "plt.plot(epochs, val_loss, 'b', label='Validation loss')\n",
    "plt.title('Training and validation loss')\n",
    "plt.legend(loc=0)\n",
    "plt.show()"
   ]
  },
  {
   "cell_type": "code",
   "execution_count": 10,
   "id": "2949074a",
   "metadata": {},
   "outputs": [],
   "source": [
    "model.save('model_fer2013.h5')"
   ]
  },
  {
   "cell_type": "code",
   "execution_count": 11,
   "id": "974ac20b",
   "metadata": {},
   "outputs": [
    {
     "name": "stdout",
     "output_type": "stream",
     "text": [
      "359/359 [==============================] - 162s 451ms/step - loss: 1.5319 - accuracy: 0.5966\n",
      "23/23 [==============================] - 9s 386ms/step - loss: 1.5603 - accuracy: 0.5992\n",
      "final train accuracy = 59.66 , validation accuracy = 59.92\n"
     ]
    }
   ],
   "source": [
    "train_loss, train_acc = model.evaluate(train_generator)\n",
    "test_loss, test_acc   = model.evaluate(validation_generator)\n",
    "print(\"final train accuracy = {:.2f} , validation accuracy = {:.2f}\".format(train_acc*100, test_acc*100))"
   ]
  },
  {
   "cell_type": "markdown",
   "id": "842869c9",
   "metadata": {},
   "source": [
    "# Testing\n",
    "# Detecting Face"
   ]
  },
  {
   "cell_type": "code",
   "execution_count": 17,
   "id": "5fff618f",
   "metadata": {},
   "outputs": [
    {
     "name": "stdout",
     "output_type": "stream",
     "text": [
      "(48, 48)\n"
     ]
    },
    {
     "data": {
      "image/png": "[encoded data removed]",
      "text/plain": [
       "<Figure size 432x288 with 1 Axes>"
      ]
     },
     "metadata": {
      "needs_background": "light"
     },
     "output_type": "display_data"
    }
   ],
   "source": [
    "img = image.load_img(\"test/angry/PrivateTest_10131363.jpg\",target_size = (48,48),color_mode = \"grayscale\")\n",
    "img = np.array(img)\n",
    "plt.imshow(img)\n",
    "print(img.shape)"
   ]
  },
  {
   "cell_type": "markdown",
   "id": "cfba44a6",
   "metadata": {},
   "source": [
    "# Prediction"
   ]
  },
  {
   "cell_type": "code",
   "execution_count": 18,
   "id": "695e2a78",
   "metadata": {},
   "outputs": [],
   "source": [
    "label_dict = {0:'Angry',1:'Disgust',2:'Fear',3:'Happy',4:'Neutral',5:'Sad',6:'Surprise'}"
   ]
  },
  {
   "cell_type": "code",
   "execution_count": 19,
   "id": "ba4b3c52",
   "metadata": {},
   "outputs": [
    {
     "name": "stdout",
     "output_type": "stream",
     "text": [
      "[1.0, 0.0, 0.0, 0.0, 9.45129e-22, 0.0, 0.0]\n"
     ]
    }
   ],
   "source": [
    "img = np.expand_dims(img,axis = 0) \n",
    "img = img.reshape(1,48,48,1)\n",
    "result = model.predict(img)\n",
    "result = list(result[0])\n",
    "print(result)"
   ]
  },
  {
   "cell_type": "code",
   "execution_count": 20,
   "id": "894c7930",
   "metadata": {},
   "outputs": [
    {
     "name": "stdout",
     "output_type": "stream",
     "text": [
      "Angry\n"
     ]
    }
   ],
   "source": [
    "img_index = result.index(max(result))\n",
    "print(label_dict[img_index])\n",
    "plt.show()"
   ]
  },
  {
   "cell_type": "code",
   "execution_count": 21,
   "id": "1579df64",
   "metadata": {},
   "outputs": [],
   "source": [
    "model.save_weights('model_weights.h5')"
   ]
  },
  {
   "cell_type": "markdown",
   "id": "71ec0a62",
   "metadata": {},
   "source": [
    "# Song Playing as per mood"
   ]
  },
  {
   "cell_type": "code",
   "execution_count": 1,
   "id": "5b93aa30",
   "metadata": {},
   "outputs": [
    {
     "name": "stdout",
     "output_type": "stream",
     "text": [
      "Playing Angry song\n"
     ]
    }
   ],
   "source": [
    "from IPython.display import Audio\n",
    "song_path = 'Audios'\n",
    "song = os.path.join(song_path,emotion)\n",
    "print(f'Playing {emotion} song')\n",
    "Audio(song + '.mp3', autoplay=True)"
   ]
  }
 ],
 "metadata": {
  "kernelspec": {
   "display_name": "Python 3",
   "language": "python",
   "name": "python3"
  },
  "language_info": {
   "codemirror_mode": {
    "name": "ipython",
    "version": 3
   },
   "file_extension": ".py",
   "mimetype": "text/x-python",
   "name": "python",
   "nbconvert_exporter": "python",
   "pygments_lexer": "ipython3",
   "version": "3.8.8"
  }
 },
 "nbformat": 4,
 "nbformat_minor": 5
}
